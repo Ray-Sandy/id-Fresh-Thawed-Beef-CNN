{
 "cells": [
  {
   "cell_type": "markdown",
   "id": "45abd7a31da9ce10",
   "metadata": {},
   "source": [
    "# PACKAGES AND LIBRARIES"
   ]
  },
  {
   "cell_type": "code",
   "execution_count": 1,
   "id": "collaborative-barbados",
   "metadata": {
    "ExecuteTime": {
     "end_time": "2024-06-02T17:49:46.339614800Z",
     "start_time": "2024-06-02T17:49:36.348982100Z"
    },
    "execution": {
     "iopub.execute_input": "2021-05-04T09:13:29.908901Z",
     "iopub.status.busy": "2021-05-04T09:13:29.907536Z",
     "iopub.status.idle": "2021-05-04T09:13:36.986681Z",
     "shell.execute_reply": "2021-05-04T09:13:36.985928Z"
    },
    "papermill": {
     "duration": 7.101984,
     "end_time": "2021-05-04T09:13:36.986868",
     "exception": false,
     "start_time": "2021-05-04T09:13:29.884884",
     "status": "completed"
    },
    "tags": []
   },
   "outputs": [
    {
     "name": "stdout",
     "output_type": "stream",
     "text": [
      "WARNING:tensorflow:From C:\\Users\\raysa\\anaconda3\\envs\\tensorflow_env\\lib\\site-packages\\keras\\src\\losses.py:2976: The name tf.losses.sparse_softmax_cross_entropy is deprecated. Please use tf.compat.v1.losses.sparse_softmax_cross_entropy instead.\n"
     ]
    }
   ],
   "source": [
    "import numpy as np\n",
    "import os\n",
    "import matplotlib.pyplot as plt\n",
    "import tensorflow as tf\n",
    "from tensorflow.keras.utils import to_categorical\n",
    "from tensorflow.keras.preprocessing.image import load_img, img_to_array\n",
    "from keras.preprocessing.image import ImageDataGenerator\n",
    "from pathlib import Path\n",
    "from sklearn.metrics import confusion_matrix, classification_report\n",
    "from warnings import filterwarnings\n",
    "import pandas as pd"
   ]
  },
  {
   "cell_type": "code",
   "execution_count": 2,
   "id": "2dd6b7209a27aebe",
   "metadata": {
    "ExecuteTime": {
     "end_time": "2024-06-02T17:49:46.357568Z",
     "start_time": "2024-06-02T17:49:46.344601800Z"
    }
   },
   "outputs": [],
   "source": [
    "filterwarnings(\"ignore\", category=DeprecationWarning) \n",
    "filterwarnings(\"ignore\", category=FutureWarning) \n",
    "filterwarnings(\"ignore\", category=UserWarning)"
   ]
  },
  {
   "cell_type": "markdown",
   "id": "80a9be1bf1a0f95",
   "metadata": {},
   "source": [
    "# Augmentation data"
   ]
  },
  {
   "cell_type": "code",
   "execution_count": 3,
   "id": "loved-queue",
   "metadata": {
    "ExecuteTime": {
     "end_time": "2024-06-02T17:49:46.418018200Z",
     "start_time": "2024-06-02T17:49:46.358600Z"
    },
    "execution": {
     "iopub.execute_input": "2021-05-04T09:13:37.027940Z",
     "iopub.status.busy": "2021-05-04T09:13:37.027246Z",
     "iopub.status.idle": "2021-05-04T09:13:37.029262Z",
     "shell.execute_reply": "2021-05-04T09:13:37.029794Z"
    },
    "papermill": {
     "duration": 0.024476,
     "end_time": "2021-05-04T09:13:37.029967",
     "exception": false,
     "start_time": "2021-05-04T09:13:37.005491",
     "status": "completed"
    },
    "tags": []
   },
   "outputs": [],
   "source": [
    "# Define paths\n",
    "train_directory = Path(\"../Beef1/Meat/train\")\n",
    "test_directory = Path(\"../Beef1/Meat/test\")\n",
    "valid_directory = Path(\"../Beef1/Meat/valid\")\n",
    "\n",
    "shape = 224, 224"
   ]
  },
  {
   "cell_type": "code",
   "execution_count": 4,
   "id": "opposed-width",
   "metadata": {
    "ExecuteTime": {
     "end_time": "2024-06-02T17:49:46.466208900Z",
     "start_time": "2024-06-02T17:49:46.423070600Z"
    },
    "execution": {
     "iopub.execute_input": "2021-05-04T09:13:37.072417Z",
     "iopub.status.busy": "2021-05-04T09:13:37.071693Z",
     "iopub.status.idle": "2021-05-04T09:13:37.106155Z",
     "shell.execute_reply": "2021-05-04T09:13:37.106974Z"
    },
    "papermill": {
     "duration": 0.058435,
     "end_time": "2021-05-04T09:13:37.107242",
     "exception": false,
     "start_time": "2021-05-04T09:13:37.048807",
     "status": "completed"
    },
    "tags": []
   },
   "outputs": [],
   "source": [
    "# Get list of image paths\n",
    "JPG_Path_Train = list(train_directory.glob(r\"*/*.jpg\"))\n",
    "JPG_Path_Test = list(test_directory.glob(r\"*/*.jpg\"))\n",
    "JPG_Path_Valid = list(valid_directory.glob(r\"*/*.jpg\"))"
   ]
  },
  {
   "cell_type": "code",
   "execution_count": 5,
   "id": "e3f4b36d077cbbf9",
   "metadata": {
    "ExecuteTime": {
     "end_time": "2024-06-02T17:49:46.518156Z",
     "start_time": "2024-06-02T17:49:46.470200100Z"
    }
   },
   "outputs": [
    {
     "name": "stdout",
     "output_type": "stream",
     "text": [
      "[WindowsPath('../Beef1/Meat/train/Fresh/Fresh (1).jpg'), WindowsPath('../Beef1/Meat/train/Fresh/Fresh (10).jpg'), WindowsPath('../Beef1/Meat/train/Fresh/Fresh (100).jpg'), WindowsPath('../Beef1/Meat/train/Fresh/Fresh (1000).jpg'), WindowsPath('../Beef1/Meat/train/Fresh/Fresh (1001).jpg')]\n",
      "[WindowsPath('../Beef1/Meat/test/Fresh/Fresh (1147).jpg'), WindowsPath('../Beef1/Meat/test/Fresh/Fresh (1148).jpg'), WindowsPath('../Beef1/Meat/test/Fresh/Fresh (1149).jpg'), WindowsPath('../Beef1/Meat/test/Fresh/Fresh (1150).jpg'), WindowsPath('../Beef1/Meat/test/Fresh/Fresh (1151).jpg')]\n",
      "[WindowsPath('../Beef1/Meat/valid/Fresh/Fresh (1008).jpg'), WindowsPath('../Beef1/Meat/valid/Fresh/Fresh (105).jpg'), WindowsPath('../Beef1/Meat/valid/Fresh/Fresh (106).jpg'), WindowsPath('../Beef1/Meat/valid/Fresh/Fresh (1301).jpg'), WindowsPath('../Beef1/Meat/valid/Fresh/Fresh (1302).jpg')]\n"
     ]
    }
   ],
   "source": [
    "print(JPG_Path_Train[:5])\n",
    "print(JPG_Path_Test[:5])\n",
    "print(JPG_Path_Valid[:5])"
   ]
  },
  {
   "cell_type": "code",
   "execution_count": 6,
   "id": "sustained-provincial",
   "metadata": {
    "ExecuteTime": {
     "end_time": "2024-06-02T17:49:46.580679100Z",
     "start_time": "2024-06-02T17:49:46.539417500Z"
    },
    "execution": {
     "iopub.execute_input": "2021-05-04T09:13:37.151672Z",
     "iopub.status.busy": "2021-05-04T09:13:37.150910Z",
     "iopub.status.idle": "2021-05-04T09:13:37.156514Z",
     "shell.execute_reply": "2021-05-04T09:13:37.157107Z"
    },
    "papermill": {
     "duration": 0.029412,
     "end_time": "2021-05-04T09:13:37.157297",
     "exception": false,
     "start_time": "2021-05-04T09:13:37.127885",
     "status": "completed"
    },
    "tags": []
   },
   "outputs": [],
   "source": [
    "# Extract labels from paths\n",
    "Labels_Train = list(map(lambda x: os.path.split(os.path.split(x)[0])[1], JPG_Path_Train))\n",
    "Labels_Test = list(map(lambda x: os.path.split(os.path.split(x)[0])[1], JPG_Path_Test))\n",
    "Labels_Valid = list(map(lambda x: os.path.split(os.path.split(x)[0])[1], JPG_Path_Valid))"
   ]
  },
  {
   "cell_type": "code",
   "execution_count": 7,
   "id": "fb89f952ea8868b7",
   "metadata": {
    "ExecuteTime": {
     "end_time": "2024-06-02T17:49:46.581677Z",
     "start_time": "2024-06-02T17:49:46.548691600Z"
    }
   },
   "outputs": [],
   "source": [
    "# Create Series for file paths and labels\n",
    "File_Path_Train = pd.Series(JPG_Path_Train, name=\"JPG\").astype(str)\n",
    "File_Path_Test = pd.Series(JPG_Path_Test, name=\"JPG\").astype(str)\n",
    "File_Path_Valid = pd.Series(JPG_Path_Valid, name=\"JPG\").astype(str)"
   ]
  },
  {
   "cell_type": "code",
   "execution_count": 8,
   "id": "b96a540cc235afc6",
   "metadata": {
    "ExecuteTime": {
     "end_time": "2024-06-02T17:49:46.605719200Z",
     "start_time": "2024-06-02T17:49:46.565059600Z"
    }
   },
   "outputs": [],
   "source": [
    "Labels_Name_Train = pd.Series(Labels_Train, name=\"CATEGORY\")\n",
    "Labels_Name_Test = pd.Series(Labels_Test, name=\"CATEGORY\")\n",
    "Labels_Name_Valid = pd.Series(Labels_Valid, name=\"CATEGORY\")\n"
   ]
  },
  {
   "cell_type": "code",
   "execution_count": 9,
   "id": "a9da569ccea0f178",
   "metadata": {
    "ExecuteTime": {
     "end_time": "2024-06-02T17:49:46.609220Z",
     "start_time": "2024-06-02T17:49:46.575660800Z"
    }
   },
   "outputs": [],
   "source": [
    "Main_Data = pd.concat([File_Path_Train, Labels_Name_Train], axis=1)\n",
    "# Test_Data = pd.concat([File_Path_Test, Label_Name_Test], axis=1)"
   ]
  },
  {
   "cell_type": "code",
   "execution_count": 10,
   "id": "ae6f26b90271920e",
   "metadata": {
    "ExecuteTime": {
     "end_time": "2024-06-02T17:49:46.624332200Z",
     "start_time": "2024-06-02T17:49:46.594839700Z"
    }
   },
   "outputs": [],
   "source": [
    "Main_Data = Main_Data.sample(frac=1).reset_index(drop=True)\n",
    "# we need to shuffle it, because of perfect training\n",
    "# Main_Data = Main_Data[~Main_Data[\"JPG\"].isin(Test_Data[\"JPG\"])]\n",
    "# Filter out test data from the main dataset"
   ]
  },
  {
   "cell_type": "code",
   "execution_count": 11,
   "id": "2a04b3dc02f2697",
   "metadata": {
    "ExecuteTime": {
     "end_time": "2024-06-02T17:49:46.684446300Z",
     "start_time": "2024-06-02T17:49:46.608223100Z"
    }
   },
   "outputs": [],
   "source": [
    "Fresh_Meat = Main_Data[Main_Data[\"CATEGORY\"] == \"Fresh\"]\n",
    "Melted_Meat = Main_Data[Main_Data[\"CATEGORY\"] == \"Melted\"]"
   ]
  },
  {
   "cell_type": "markdown",
   "id": "a7f3fbc8cc0add57",
   "metadata": {},
   "source": [
    "# Split Data"
   ]
  },
  {
   "cell_type": "code",
   "execution_count": 12,
   "id": "b2a76f6bfb275628",
   "metadata": {
    "ExecuteTime": {
     "end_time": "2024-06-02T17:49:46.706348800Z",
     "start_time": "2024-06-02T17:49:46.692423900Z"
    }
   },
   "outputs": [
    {
     "name": "stdout",
     "output_type": "stream",
     "text": [
      "Train set size: 2066\n",
      "Validation set size: 464\n",
      "Test set size: 464\n",
      "Index(['JPG', 'CATEGORY'], dtype='object')\n",
      "Index(['JPG', 'CATEGORY'], dtype='object')\n",
      "Index(['JPG', 'CATEGORY'], dtype='object')\n"
     ]
    }
   ],
   "source": [
    "# Create DataFrames for Train, Test, and Valid data\n",
    "Train_Data = pd.concat([File_Path_Train, Labels_Name_Train], axis=1)\n",
    "Test_Data = pd.concat([File_Path_Test, Labels_Name_Test], axis=1)\n",
    "Valid_Data = pd.concat([File_Path_Valid, Labels_Name_Valid], axis=1)\n",
    "\n",
    "# Memeriksa ukuran set\n",
    "print(f\"Train set size: {Train_Data.shape[0]}\")\n",
    "print(f\"Validation set size: {Valid_Data.shape[0]}\")\n",
    "print(f\"Test set size: {Test_Data.shape[0]}\")\n",
    "\n",
    "# Check columns\n",
    "print(Train_Data.columns)\n",
    "print(Test_Data.columns)\n",
    "print(Valid_Data.columns)"
   ]
  },
  {
   "cell_type": "code",
   "execution_count": 13,
   "id": "b7a422f529190b1a",
   "metadata": {
    "ExecuteTime": {
     "end_time": "2024-06-02T17:49:46.748595400Z",
     "start_time": "2024-06-02T17:49:46.701355Z"
    }
   },
   "outputs": [],
   "source": [
    "Fresh_Meat_Test = Train_Data[Train_Data == \"Fresh\"]\n",
    "Melted_Meat_Test = Train_Data[Train_Data == \"Melted\"]"
   ]
  },
  {
   "cell_type": "markdown",
   "id": "55c799040a4155da",
   "metadata": {},
   "source": [
    "# Data Generator"
   ]
  },
  {
   "cell_type": "code",
   "execution_count": 14,
   "id": "1ee4ffebc5086f49",
   "metadata": {
    "ExecuteTime": {
     "end_time": "2024-06-02T17:49:46.750626100Z",
     "start_time": "2024-06-02T17:49:46.719308600Z"
    }
   },
   "outputs": [],
   "source": [
    "# Data generators\n",
    "Data_Generator = ImageDataGenerator(rescale=1.0/255.0, rotation_range=20,\n",
    "                                    width_shift_range=0.2, height_shift_range=0.2,\n",
    "                                    shear_range=0.2, zoom_range=0.2,\n",
    "                                    horizontal_flip=True, fill_mode='nearest')\n",
    "\n",
    "Test_Generator = ImageDataGenerator(rescale=1.0/255.0)\n"
   ]
  },
  {
   "cell_type": "code",
   "execution_count": 15,
   "id": "fff22c7bfd90f5aa",
   "metadata": {
    "ExecuteTime": {
     "end_time": "2024-06-02T17:49:46.940419500Z",
     "start_time": "2024-06-02T17:49:46.737629Z"
    }
   },
   "outputs": [
    {
     "name": "stdout",
     "output_type": "stream",
     "text": [
      "Found 2066 validated image filenames belonging to 2 classes.\n",
      "Found 464 validated image filenames belonging to 2 classes.\n",
      "Found 464 validated image filenames belonging to 2 classes.\n"
     ]
    }
   ],
   "source": [
    "# Train data generator\n",
    "Train_Gen = Data_Generator.flow_from_dataframe(\n",
    "    dataframe=Train_Data,\n",
    "    x_col=\"JPG\",\n",
    "    y_col=\"CATEGORY\",\n",
    "    target_size=(224, 224),\n",
    "    batch_size=32,\n",
    "    shuffle=True,\n",
    "    seed=42,\n",
    "    class_mode=\"categorical\",\n",
    "    color_mode=\"rgb\"\n",
    ")\n",
    "\n",
    "# Test data generator\n",
    "Test_Gen = Test_Generator.flow_from_dataframe(\n",
    "    dataframe=Test_Data,\n",
    "    x_col=\"JPG\",\n",
    "    y_col=\"CATEGORY\",\n",
    "    target_size=(224, 224),\n",
    "    batch_size=32,\n",
    "    shuffle=False,\n",
    "    class_mode=\"categorical\",\n",
    "    color_mode=\"rgb\"\n",
    ")\n",
    "\n",
    "# Validation data generator\n",
    "Validation_Gen = Data_Generator.flow_from_dataframe(\n",
    "    dataframe=Valid_Data,\n",
    "    x_col=\"JPG\",\n",
    "    y_col=\"CATEGORY\",\n",
    "    target_size=(224, 224),\n",
    "    batch_size=32,\n",
    "    shuffle=True,\n",
    "    seed=42,\n",
    "    class_mode=\"categorical\",\n",
    "    color_mode=\"rgb\"\n",
    ")"
   ]
  },
  {
   "cell_type": "markdown",
   "id": "57a9cb43555e5f84",
   "metadata": {},
   "source": [
    "# Inception V3 model\n",
    "keras.applications.InceptionV3(\n",
    "    include_top=True,\n",
    "    weights=\"imagenet\",\n",
    "    input_tensor=None,\n",
    "    input_shape=None,\n",
    "    pooling=None,\n",
    "    classes=1000,\n",
    "    classifier_activation=\"softmax\",\n",
    ")\n",
    "\n",
    "Arguments\n",
    "\n",
    "- include_top: Boolean, whether to include the fully-connected layer at the top, as the last layer of the network. Defaults to True.\n",
    "weights: One of None (random initialization), imagenet (pre-training on ImageNet), or the path to the weights file to be loaded. Defaults to \"imagenet\".\n",
    "\n",
    "- input_tensor: Optional Keras tensor (i.e. output of layers.Input()) to use as image input for the model. input_tensor is useful for sharing inputs between multiple different networks. Defaults to None.\n",
    "\n",
    "- input_shape: Optional shape tuple, only to be specified if include_top is False (otherwise the input shape has to be (299, 299, 3) (with channels_last data format) or (3, 299, 299) (with channels_first data format). It should have exactly 3 inputs channels, and width and height should be no smaller than 75. E.g. (150, 150, 3) would be one valid value. input_shape will be ignored if the input_tensor is provided.\n",
    "\n",
    "- pooling: Optional pooling mode for feature extraction when include_top is False.\n",
    "None (default) means that the output of the model will be the 4D tensor output of the last convolutional block.\n",
    "avg means that global average pooling will be applied to the output of the last convolutional block, and thus the output of the model will be a 2D tensor.\n",
    "max means that global max pooling will be applied.\n",
    "\n",
    "- classes: optional number of classes to classify images into, only to be specified if include_top is True, and if no weights argument is specified. Defaults to 1000.\n",
    "\n",
    "- classifier_activation: A str or callable. The activation function to use on the \"top\" layer. Ignored unless include_top=True. Set classifier_activation=None to return the logits of the \"top\" layer. When loading pretrained weights, classifier_activation can only be None or \"softmax\".\n",
    "\n",
    "Returns\n",
    "- A model instance.\n",
    "\n",
    "Documentation at https://keras.io/api/applications/inceptionv3/"
   ]
  },
  {
   "cell_type": "code",
   "execution_count": 16,
   "id": "hollywood-neighborhood",
   "metadata": {
    "ExecuteTime": {
     "end_time": "2024-06-02T17:49:49.335427600Z",
     "start_time": "2024-06-02T17:49:46.936414900Z"
    },
    "execution": {
     "iopub.execute_input": "2021-05-04T09:14:21.794453Z",
     "iopub.status.busy": "2021-05-04T09:14:21.793447Z",
     "iopub.status.idle": "2021-05-04T09:14:28.284137Z",
     "shell.execute_reply": "2021-05-04T09:14:28.283421Z"
    },
    "papermill": {
     "duration": 6.520211,
     "end_time": "2021-05-04T09:14:28.284292",
     "exception": false,
     "start_time": "2021-05-04T09:14:21.764081",
     "status": "completed"
    },
    "tags": []
   },
   "outputs": [
    {
     "name": "stdout",
     "output_type": "stream",
     "text": [
      "WARNING:tensorflow:From C:\\Users\\raysa\\anaconda3\\envs\\tensorflow_env\\lib\\site-packages\\keras\\src\\backend.py:1398: The name tf.executing_eagerly_outside_functions is deprecated. Please use tf.compat.v1.executing_eagerly_outside_functions instead.\n",
      "WARNING:tensorflow:From C:\\Users\\raysa\\anaconda3\\envs\\tensorflow_env\\lib\\site-packages\\keras\\src\\layers\\normalization\\batch_normalization.py:979: The name tf.nn.fused_batch_norm is deprecated. Please use tf.compat.v1.nn.fused_batch_norm instead.\n"
     ]
    }
   ],
   "source": [
    "# Load the pretrained model without the top layer\n",
    "pretrained_model3 = tf.keras.applications.InceptionV3(input_shape=(224, 224 ,3), include_top=False, weights=None)\n",
    "pretrained_model3.trainable = False"
   ]
  },
  {
   "cell_type": "code",
   "execution_count": 17,
   "id": "corresponding-broadcast",
   "metadata": {
    "ExecuteTime": {
     "end_time": "2024-06-02T17:49:49.413796300Z",
     "start_time": "2024-06-02T17:49:49.346400100Z"
    },
    "execution": {
     "iopub.execute_input": "2021-05-04T09:14:28.342993Z",
     "iopub.status.busy": "2021-05-04T09:14:28.341813Z",
     "iopub.status.idle": "2021-05-04T09:14:28.413432Z",
     "shell.execute_reply": "2021-05-04T09:14:28.412832Z"
    },
    "papermill": {
     "duration": 0.10523,
     "end_time": "2021-05-04T09:14:28.413595",
     "exception": false,
     "start_time": "2021-05-04T09:14:28.308365",
     "status": "completed"
    },
    "tags": []
   },
   "outputs": [],
   "source": [
    "# Add new layers\n",
    "x3 = pretrained_model3.output\n",
    "x3 = tf.keras.layers.GlobalAveragePooling2D()(x3)\n",
    "x3 = tf.keras.layers.BatchNormalization()(x3)\n",
    "x3 = tf.keras.layers.Dense(128, activation='relu')(x3)\n",
    "x3 = tf.keras.layers.Dropout(0.5)(x3)\n",
    "outputs3 = tf.keras.layers.Dense(2, activation='softmax')(x3)\n",
    "\n",
    "# Define the model\n",
    "model = tf.keras.Model(inputs=pretrained_model3.input, outputs=outputs3)"
   ]
  },
  {
   "cell_type": "code",
   "execution_count": 18,
   "id": "7411ea9ae2117692",
   "metadata": {
    "ExecuteTime": {
     "end_time": "2024-06-02T17:49:49.518635400Z",
     "start_time": "2024-06-02T17:49:49.418794Z"
    }
   },
   "outputs": [
    {
     "name": "stdout",
     "output_type": "stream",
     "text": [
      "WARNING:tensorflow:From C:\\Users\\raysa\\anaconda3\\envs\\tensorflow_env\\lib\\site-packages\\keras\\src\\optimizers\\__init__.py:309: The name tf.train.Optimizer is deprecated. Please use tf.compat.v1.train.Optimizer instead.\n"
     ]
    }
   ],
   "source": [
    "model.compile(\n",
    "    optimizer='RMSprop',\n",
    "    loss=tf.keras.losses.SparseCategoricalCrossentropy(from_logits=False),\n",
    "    metrics=['accuracy']\n",
    ")"
   ]
  },
  {
   "cell_type": "code",
   "execution_count": 19,
   "id": "fd26924e2bc193f6",
   "metadata": {
    "ExecuteTime": {
     "end_time": "2024-06-02T17:49:49.520612Z",
     "start_time": "2024-06-02T17:49:49.499483800Z"
    }
   },
   "outputs": [],
   "source": [
    "from tensorflow.keras.callbacks import EarlyStopping, ModelCheckpoint\n",
    "\n",
    "Call_Back = EarlyStopping(monitor='val_loss', patience=2, restore_best_weights=True)\n",
    "model_checkpoint = ModelCheckpoint('best_model.h5', monitor='val_loss', save_best_only=True)\n",
    "\n",
    "class myCallback(tf.keras.callbacks.Callback):\n",
    "    def on_epoch_end(self, epoch, logs={}):\n",
    "        if logs.get('accuracy') > 0.99 and logs.get('val_accuracy') > 0.99:\n",
    "            print(\"\\nReached or exceeded 99.0% accuracy so cancelling training!\")\n",
    "            self.model.stop_training = True\n",
    "            \n",
    "callback = myCallback()"
   ]
  },
  {
   "cell_type": "code",
   "execution_count": 20,
   "id": "national-possession",
   "metadata": {
    "ExecuteTime": {
     "end_time": "2024-06-02T17:49:55.250392800Z",
     "start_time": "2024-06-02T17:49:49.514360100Z"
    },
    "execution": {
     "iopub.execute_input": "2021-05-04T09:14:28.557244Z",
     "iopub.status.busy": "2021-05-04T09:14:28.556379Z",
     "iopub.status.idle": "2021-05-04T09:27:39.134020Z",
     "shell.execute_reply": "2021-05-04T09:27:39.134529Z"
    },
    "papermill": {
     "duration": 790.61337,
     "end_time": "2021-05-04T09:27:39.134735",
     "exception": false,
     "start_time": "2021-05-04T09:14:28.521365",
     "status": "completed"
    },
    "tags": []
   },
   "outputs": [
    {
     "name": "stdout",
     "output_type": "stream",
     "text": [
      "Epoch 1/50\n",
      "WARNING:tensorflow:From C:\\Users\\raysa\\anaconda3\\envs\\tensorflow_env\\lib\\site-packages\\keras\\src\\utils\\tf_utils.py:492: The name tf.ragged.RaggedTensorValue is deprecated. Please use tf.compat.v1.ragged.RaggedTensorValue instead.\n",
      "WARNING:tensorflow:From C:\\Users\\raysa\\anaconda3\\envs\\tensorflow_env\\lib\\site-packages\\keras\\src\\engine\\base_layer_utils.py:384: The name tf.executing_eagerly_outside_functions is deprecated. Please use tf.compat.v1.executing_eagerly_outside_functions instead.\n"
     ]
    },
    {
     "ename": "InvalidArgumentError",
     "evalue": "Graph execution error:\n\nDetected at node sparse_categorical_crossentropy/SparseSoftmaxCrossEntropyWithLogits/SparseSoftmaxCrossEntropyWithLogits defined at (most recent call last):\n  File \"C:\\Users\\raysa\\anaconda3\\envs\\tensorflow_env\\lib\\runpy.py\", line 197, in _run_module_as_main\n\n  File \"C:\\Users\\raysa\\anaconda3\\envs\\tensorflow_env\\lib\\runpy.py\", line 87, in _run_code\n\n  File \"C:\\Users\\raysa\\anaconda3\\envs\\tensorflow_env\\lib\\site-packages\\ipykernel_launcher.py\", line 18, in <module>\n\n  File \"C:\\Users\\raysa\\anaconda3\\envs\\tensorflow_env\\lib\\site-packages\\traitlets\\config\\application.py\", line 1075, in launch_instance\n\n  File \"C:\\Users\\raysa\\anaconda3\\envs\\tensorflow_env\\lib\\site-packages\\ipykernel\\kernelapp.py\", line 739, in start\n\n  File \"C:\\Users\\raysa\\anaconda3\\envs\\tensorflow_env\\lib\\site-packages\\tornado\\platform\\asyncio.py\", line 205, in start\n\n  File \"C:\\Users\\raysa\\anaconda3\\envs\\tensorflow_env\\lib\\asyncio\\base_events.py\", line 601, in run_forever\n\n  File \"C:\\Users\\raysa\\anaconda3\\envs\\tensorflow_env\\lib\\asyncio\\base_events.py\", line 1905, in _run_once\n\n  File \"C:\\Users\\raysa\\anaconda3\\envs\\tensorflow_env\\lib\\asyncio\\events.py\", line 80, in _run\n\n  File \"C:\\Users\\raysa\\anaconda3\\envs\\tensorflow_env\\lib\\site-packages\\ipykernel\\kernelbase.py\", line 545, in dispatch_queue\n\n  File \"C:\\Users\\raysa\\anaconda3\\envs\\tensorflow_env\\lib\\site-packages\\ipykernel\\kernelbase.py\", line 534, in process_one\n\n  File \"C:\\Users\\raysa\\anaconda3\\envs\\tensorflow_env\\lib\\site-packages\\ipykernel\\kernelbase.py\", line 437, in dispatch_shell\n\n  File \"C:\\Users\\raysa\\anaconda3\\envs\\tensorflow_env\\lib\\site-packages\\ipykernel\\ipkernel.py\", line 362, in execute_request\n\n  File \"C:\\Users\\raysa\\anaconda3\\envs\\tensorflow_env\\lib\\site-packages\\ipykernel\\kernelbase.py\", line 778, in execute_request\n\n  File \"C:\\Users\\raysa\\anaconda3\\envs\\tensorflow_env\\lib\\site-packages\\ipykernel\\ipkernel.py\", line 449, in do_execute\n\n  File \"C:\\Users\\raysa\\anaconda3\\envs\\tensorflow_env\\lib\\site-packages\\ipykernel\\zmqshell.py\", line 549, in run_cell\n\n  File \"C:\\Users\\raysa\\anaconda3\\envs\\tensorflow_env\\lib\\site-packages\\IPython\\core\\interactiveshell.py\", line 3048, in run_cell\n\n  File \"C:\\Users\\raysa\\anaconda3\\envs\\tensorflow_env\\lib\\site-packages\\IPython\\core\\interactiveshell.py\", line 3103, in _run_cell\n\n  File \"C:\\Users\\raysa\\anaconda3\\envs\\tensorflow_env\\lib\\site-packages\\IPython\\core\\async_helpers.py\", line 129, in _pseudo_sync_runner\n\n  File \"C:\\Users\\raysa\\anaconda3\\envs\\tensorflow_env\\lib\\site-packages\\IPython\\core\\interactiveshell.py\", line 3308, in run_cell_async\n\n  File \"C:\\Users\\raysa\\anaconda3\\envs\\tensorflow_env\\lib\\site-packages\\IPython\\core\\interactiveshell.py\", line 3490, in run_ast_nodes\n\n  File \"C:\\Users\\raysa\\anaconda3\\envs\\tensorflow_env\\lib\\site-packages\\IPython\\core\\interactiveshell.py\", line 3550, in run_code\n\n  File \"C:\\Users\\raysa\\AppData\\Local\\Temp\\ipykernel_1296\\3280905369.py\", line 2, in <module>\n\n  File \"C:\\Users\\raysa\\anaconda3\\envs\\tensorflow_env\\lib\\site-packages\\keras\\src\\utils\\traceback_utils.py\", line 65, in error_handler\n\n  File \"C:\\Users\\raysa\\anaconda3\\envs\\tensorflow_env\\lib\\site-packages\\keras\\src\\engine\\training.py\", line 1807, in fit\n\n  File \"C:\\Users\\raysa\\anaconda3\\envs\\tensorflow_env\\lib\\site-packages\\keras\\src\\engine\\training.py\", line 1401, in train_function\n\n  File \"C:\\Users\\raysa\\anaconda3\\envs\\tensorflow_env\\lib\\site-packages\\keras\\src\\engine\\training.py\", line 1384, in step_function\n\n  File \"C:\\Users\\raysa\\anaconda3\\envs\\tensorflow_env\\lib\\site-packages\\keras\\src\\engine\\training.py\", line 1373, in run_step\n\n  File \"C:\\Users\\raysa\\anaconda3\\envs\\tensorflow_env\\lib\\site-packages\\keras\\src\\engine\\training.py\", line 1151, in train_step\n\n  File \"C:\\Users\\raysa\\anaconda3\\envs\\tensorflow_env\\lib\\site-packages\\keras\\src\\engine\\training.py\", line 1209, in compute_loss\n\n  File \"C:\\Users\\raysa\\anaconda3\\envs\\tensorflow_env\\lib\\site-packages\\keras\\src\\engine\\compile_utils.py\", line 277, in __call__\n\n  File \"C:\\Users\\raysa\\anaconda3\\envs\\tensorflow_env\\lib\\site-packages\\keras\\src\\losses.py\", line 143, in __call__\n\n  File \"C:\\Users\\raysa\\anaconda3\\envs\\tensorflow_env\\lib\\site-packages\\keras\\src\\losses.py\", line 270, in call\n\n  File \"C:\\Users\\raysa\\anaconda3\\envs\\tensorflow_env\\lib\\site-packages\\keras\\src\\losses.py\", line 2454, in sparse_categorical_crossentropy\n\n  File \"C:\\Users\\raysa\\anaconda3\\envs\\tensorflow_env\\lib\\site-packages\\keras\\src\\backend.py\", line 5775, in sparse_categorical_crossentropy\n\nlogits and labels must have the same first dimension, got logits shape [32,2] and labels shape [64]\n\t [[{{node sparse_categorical_crossentropy/SparseSoftmaxCrossEntropyWithLogits/SparseSoftmaxCrossEntropyWithLogits}}]] [Op:__inference_train_function_12455]",
     "output_type": "error",
     "traceback": [
      "\u001b[1;31m---------------------------------------------------------------------------\u001b[0m",
      "\u001b[1;31mInvalidArgumentError\u001b[0m                      Traceback (most recent call last)",
      "Cell \u001b[1;32mIn[20], line 2\u001b[0m\n\u001b[0;32m      1\u001b[0m \u001b[38;5;66;03m# Fit the model\u001b[39;00m\n\u001b[1;32m----> 2\u001b[0m his \u001b[38;5;241m=\u001b[39m \u001b[43mmodel\u001b[49m\u001b[38;5;241;43m.\u001b[39;49m\u001b[43mfit\u001b[49m\u001b[43m(\u001b[49m\n\u001b[0;32m      3\u001b[0m \u001b[43m    \u001b[49m\u001b[43mTrain_Gen\u001b[49m\u001b[43m,\u001b[49m\n\u001b[0;32m      4\u001b[0m \u001b[43m    \u001b[49m\u001b[43mvalidation_data\u001b[49m\u001b[38;5;241;43m=\u001b[39;49m\u001b[43mValidation_Gen\u001b[49m\u001b[43m,\u001b[49m\n\u001b[0;32m      5\u001b[0m \u001b[43m    \u001b[49m\u001b[43mepochs\u001b[49m\u001b[38;5;241;43m=\u001b[39;49m\u001b[38;5;241;43m50\u001b[39;49m\u001b[43m,\u001b[49m\n\u001b[0;32m      6\u001b[0m \u001b[43m    \u001b[49m\u001b[43mverbose\u001b[49m\u001b[38;5;241;43m=\u001b[39;49m\u001b[38;5;241;43m1\u001b[39;49m\u001b[43m,\u001b[49m\n\u001b[0;32m      7\u001b[0m \u001b[43m    \u001b[49m\u001b[43mcallbacks\u001b[49m\u001b[38;5;241;43m=\u001b[39;49m\u001b[43m[\u001b[49m\u001b[43mCall_Back\u001b[49m\u001b[43m,\u001b[49m\u001b[43m  \u001b[49m\u001b[43mcallback\u001b[49m\u001b[43m]\u001b[49m\n\u001b[0;32m      8\u001b[0m \u001b[43m)\u001b[49m\n",
      "File \u001b[1;32m~\\anaconda3\\envs\\tensorflow_env\\lib\\site-packages\\keras\\src\\utils\\traceback_utils.py:70\u001b[0m, in \u001b[0;36mfilter_traceback.<locals>.error_handler\u001b[1;34m(*args, **kwargs)\u001b[0m\n\u001b[0;32m     67\u001b[0m     filtered_tb \u001b[38;5;241m=\u001b[39m _process_traceback_frames(e\u001b[38;5;241m.\u001b[39m__traceback__)\n\u001b[0;32m     68\u001b[0m     \u001b[38;5;66;03m# To get the full stack trace, call:\u001b[39;00m\n\u001b[0;32m     69\u001b[0m     \u001b[38;5;66;03m# `tf.debugging.disable_traceback_filtering()`\u001b[39;00m\n\u001b[1;32m---> 70\u001b[0m     \u001b[38;5;28;01mraise\u001b[39;00m e\u001b[38;5;241m.\u001b[39mwith_traceback(filtered_tb) \u001b[38;5;28;01mfrom\u001b[39;00m \u001b[38;5;28;01mNone\u001b[39;00m\n\u001b[0;32m     71\u001b[0m \u001b[38;5;28;01mfinally\u001b[39;00m:\n\u001b[0;32m     72\u001b[0m     \u001b[38;5;28;01mdel\u001b[39;00m filtered_tb\n",
      "File \u001b[1;32m~\\anaconda3\\envs\\tensorflow_env\\lib\\site-packages\\tensorflow\\python\\eager\\execute.py:53\u001b[0m, in \u001b[0;36mquick_execute\u001b[1;34m(op_name, num_outputs, inputs, attrs, ctx, name)\u001b[0m\n\u001b[0;32m     51\u001b[0m \u001b[38;5;28;01mtry\u001b[39;00m:\n\u001b[0;32m     52\u001b[0m   ctx\u001b[38;5;241m.\u001b[39mensure_initialized()\n\u001b[1;32m---> 53\u001b[0m   tensors \u001b[38;5;241m=\u001b[39m pywrap_tfe\u001b[38;5;241m.\u001b[39mTFE_Py_Execute(ctx\u001b[38;5;241m.\u001b[39m_handle, device_name, op_name,\n\u001b[0;32m     54\u001b[0m                                       inputs, attrs, num_outputs)\n\u001b[0;32m     55\u001b[0m \u001b[38;5;28;01mexcept\u001b[39;00m core\u001b[38;5;241m.\u001b[39m_NotOkStatusException \u001b[38;5;28;01mas\u001b[39;00m e:\n\u001b[0;32m     56\u001b[0m   \u001b[38;5;28;01mif\u001b[39;00m name \u001b[38;5;129;01mis\u001b[39;00m \u001b[38;5;129;01mnot\u001b[39;00m \u001b[38;5;28;01mNone\u001b[39;00m:\n",
      "\u001b[1;31mInvalidArgumentError\u001b[0m: Graph execution error:\n\nDetected at node sparse_categorical_crossentropy/SparseSoftmaxCrossEntropyWithLogits/SparseSoftmaxCrossEntropyWithLogits defined at (most recent call last):\n  File \"C:\\Users\\raysa\\anaconda3\\envs\\tensorflow_env\\lib\\runpy.py\", line 197, in _run_module_as_main\n\n  File \"C:\\Users\\raysa\\anaconda3\\envs\\tensorflow_env\\lib\\runpy.py\", line 87, in _run_code\n\n  File \"C:\\Users\\raysa\\anaconda3\\envs\\tensorflow_env\\lib\\site-packages\\ipykernel_launcher.py\", line 18, in <module>\n\n  File \"C:\\Users\\raysa\\anaconda3\\envs\\tensorflow_env\\lib\\site-packages\\traitlets\\config\\application.py\", line 1075, in launch_instance\n\n  File \"C:\\Users\\raysa\\anaconda3\\envs\\tensorflow_env\\lib\\site-packages\\ipykernel\\kernelapp.py\", line 739, in start\n\n  File \"C:\\Users\\raysa\\anaconda3\\envs\\tensorflow_env\\lib\\site-packages\\tornado\\platform\\asyncio.py\", line 205, in start\n\n  File \"C:\\Users\\raysa\\anaconda3\\envs\\tensorflow_env\\lib\\asyncio\\base_events.py\", line 601, in run_forever\n\n  File \"C:\\Users\\raysa\\anaconda3\\envs\\tensorflow_env\\lib\\asyncio\\base_events.py\", line 1905, in _run_once\n\n  File \"C:\\Users\\raysa\\anaconda3\\envs\\tensorflow_env\\lib\\asyncio\\events.py\", line 80, in _run\n\n  File \"C:\\Users\\raysa\\anaconda3\\envs\\tensorflow_env\\lib\\site-packages\\ipykernel\\kernelbase.py\", line 545, in dispatch_queue\n\n  File \"C:\\Users\\raysa\\anaconda3\\envs\\tensorflow_env\\lib\\site-packages\\ipykernel\\kernelbase.py\", line 534, in process_one\n\n  File \"C:\\Users\\raysa\\anaconda3\\envs\\tensorflow_env\\lib\\site-packages\\ipykernel\\kernelbase.py\", line 437, in dispatch_shell\n\n  File \"C:\\Users\\raysa\\anaconda3\\envs\\tensorflow_env\\lib\\site-packages\\ipykernel\\ipkernel.py\", line 362, in execute_request\n\n  File \"C:\\Users\\raysa\\anaconda3\\envs\\tensorflow_env\\lib\\site-packages\\ipykernel\\kernelbase.py\", line 778, in execute_request\n\n  File \"C:\\Users\\raysa\\anaconda3\\envs\\tensorflow_env\\lib\\site-packages\\ipykernel\\ipkernel.py\", line 449, in do_execute\n\n  File \"C:\\Users\\raysa\\anaconda3\\envs\\tensorflow_env\\lib\\site-packages\\ipykernel\\zmqshell.py\", line 549, in run_cell\n\n  File \"C:\\Users\\raysa\\anaconda3\\envs\\tensorflow_env\\lib\\site-packages\\IPython\\core\\interactiveshell.py\", line 3048, in run_cell\n\n  File \"C:\\Users\\raysa\\anaconda3\\envs\\tensorflow_env\\lib\\site-packages\\IPython\\core\\interactiveshell.py\", line 3103, in _run_cell\n\n  File \"C:\\Users\\raysa\\anaconda3\\envs\\tensorflow_env\\lib\\site-packages\\IPython\\core\\async_helpers.py\", line 129, in _pseudo_sync_runner\n\n  File \"C:\\Users\\raysa\\anaconda3\\envs\\tensorflow_env\\lib\\site-packages\\IPython\\core\\interactiveshell.py\", line 3308, in run_cell_async\n\n  File \"C:\\Users\\raysa\\anaconda3\\envs\\tensorflow_env\\lib\\site-packages\\IPython\\core\\interactiveshell.py\", line 3490, in run_ast_nodes\n\n  File \"C:\\Users\\raysa\\anaconda3\\envs\\tensorflow_env\\lib\\site-packages\\IPython\\core\\interactiveshell.py\", line 3550, in run_code\n\n  File \"C:\\Users\\raysa\\AppData\\Local\\Temp\\ipykernel_1296\\3280905369.py\", line 2, in <module>\n\n  File \"C:\\Users\\raysa\\anaconda3\\envs\\tensorflow_env\\lib\\site-packages\\keras\\src\\utils\\traceback_utils.py\", line 65, in error_handler\n\n  File \"C:\\Users\\raysa\\anaconda3\\envs\\tensorflow_env\\lib\\site-packages\\keras\\src\\engine\\training.py\", line 1807, in fit\n\n  File \"C:\\Users\\raysa\\anaconda3\\envs\\tensorflow_env\\lib\\site-packages\\keras\\src\\engine\\training.py\", line 1401, in train_function\n\n  File \"C:\\Users\\raysa\\anaconda3\\envs\\tensorflow_env\\lib\\site-packages\\keras\\src\\engine\\training.py\", line 1384, in step_function\n\n  File \"C:\\Users\\raysa\\anaconda3\\envs\\tensorflow_env\\lib\\site-packages\\keras\\src\\engine\\training.py\", line 1373, in run_step\n\n  File \"C:\\Users\\raysa\\anaconda3\\envs\\tensorflow_env\\lib\\site-packages\\keras\\src\\engine\\training.py\", line 1151, in train_step\n\n  File \"C:\\Users\\raysa\\anaconda3\\envs\\tensorflow_env\\lib\\site-packages\\keras\\src\\engine\\training.py\", line 1209, in compute_loss\n\n  File \"C:\\Users\\raysa\\anaconda3\\envs\\tensorflow_env\\lib\\site-packages\\keras\\src\\engine\\compile_utils.py\", line 277, in __call__\n\n  File \"C:\\Users\\raysa\\anaconda3\\envs\\tensorflow_env\\lib\\site-packages\\keras\\src\\losses.py\", line 143, in __call__\n\n  File \"C:\\Users\\raysa\\anaconda3\\envs\\tensorflow_env\\lib\\site-packages\\keras\\src\\losses.py\", line 270, in call\n\n  File \"C:\\Users\\raysa\\anaconda3\\envs\\tensorflow_env\\lib\\site-packages\\keras\\src\\losses.py\", line 2454, in sparse_categorical_crossentropy\n\n  File \"C:\\Users\\raysa\\anaconda3\\envs\\tensorflow_env\\lib\\site-packages\\keras\\src\\backend.py\", line 5775, in sparse_categorical_crossentropy\n\nlogits and labels must have the same first dimension, got logits shape [32,2] and labels shape [64]\n\t [[{{node sparse_categorical_crossentropy/SparseSoftmaxCrossEntropyWithLogits/SparseSoftmaxCrossEntropyWithLogits}}]] [Op:__inference_train_function_12455]"
     ]
    }
   ],
   "source": [
    "# Fit the model\n",
    "his = model.fit(\n",
    "    Train_Gen,\n",
    "    validation_data=Validation_Gen,\n",
    "    epochs=50,\n",
    "    verbose=1,\n",
    "    callbacks=[Call_Back, callback]\n",
    ")"
   ]
  },
  {
   "cell_type": "code",
   "execution_count": null,
   "id": "64b626d1e2db9856",
   "metadata": {
    "ExecuteTime": {
     "start_time": "2024-06-02T17:49:55.247331400Z"
    }
   },
   "outputs": [],
   "source": [
    "Model_Results = model.evaluate(Test_Gen)\n",
    "print(\"LOSS:  \" + \"%.4f\" % Model_Results[0])\n",
    "print(\"ACCURACY:  \" + \"%.2f\" % Model_Results[1])"
   ]
  },
  {
   "cell_type": "code",
   "execution_count": null,
   "id": "directed-trainer",
   "metadata": {
    "ExecuteTime": {
     "start_time": "2024-06-02T17:49:55.249378500Z"
    },
    "execution": {
     "iopub.execute_input": "2021-05-04T09:27:51.316441Z",
     "iopub.status.busy": "2021-05-04T09:27:51.281912Z",
     "iopub.status.idle": "2021-05-04T09:27:51.457200Z",
     "shell.execute_reply": "2021-05-04T09:27:51.457665Z"
    },
    "papermill": {
     "duration": 0.492843,
     "end_time": "2021-05-04T09:27:51.457846",
     "exception": false,
     "start_time": "2021-05-04T09:27:50.965003",
     "status": "completed"
    },
    "tags": []
   },
   "outputs": [],
   "source": [
    "# Extract metrics from the training history\n",
    "get_acc = his.history['accuracy']\n",
    "value_acc = his.history['val_accuracy']\n",
    "get_loss = his.history['loss']\n",
    "validation_loss = his.history['val_loss']"
   ]
  },
  {
   "cell_type": "code",
   "execution_count": null,
   "id": "28d7666878a48b65",
   "metadata": {
    "ExecuteTime": {
     "start_time": "2024-06-02T17:49:55.254367100Z"
    }
   },
   "outputs": [],
   "source": [
    "# Plot accuracy\n",
    "epochs = range(len(get_acc))\n",
    "plt.plot(epochs, get_acc, 'r', label='Accuracy of Training data')\n",
    "plt.plot(epochs, value_acc, 'b', label='Accuracy of Validation data')\n",
    "plt.title('Training vs Validation Accuracy')\n",
    "plt.xlabel('Epochs')\n",
    "plt.ylabel('Accuracy')\n",
    "plt.legend(loc='best')\n",
    "plt.figure()\n",
    "\n",
    "# Plot loss\n",
    "plt.plot(epochs, get_loss, 'r', label='Loss of Training data')\n",
    "plt.plot(epochs, validation_loss, 'b', label='Loss of Validation data')\n",
    "plt.title('Training vs Validation Loss')\n",
    "plt.xlabel('Epochs')\n",
    "plt.ylabel('Loss')\n",
    "plt.legend(loc='best')\n",
    "plt.show()"
   ]
  },
  {
   "cell_type": "code",
   "execution_count": null,
   "id": "regulation-receptor",
   "metadata": {
    "ExecuteTime": {
     "end_time": "2024-06-02T17:49:55.279636900Z",
     "start_time": "2024-06-02T17:49:55.259354Z"
    },
    "execution": {
     "iopub.execute_input": "2021-05-04T09:27:39.735750Z",
     "iopub.status.busy": "2021-05-04T09:27:39.735063Z",
     "iopub.status.idle": "2021-05-04T09:27:50.683351Z",
     "shell.execute_reply": "2021-05-04T09:27:50.682841Z"
    },
    "papermill": {
     "duration": 11.266805,
     "end_time": "2021-05-04T09:27:50.683494",
     "exception": false,
     "start_time": "2021-05-04T09:27:39.416689",
     "status": "completed"
    },
    "tags": []
   },
   "outputs": [],
   "source": [
    "# Generate predictions on the test data\n",
    "Model_Predict = model.predict(Test_Gen)\n",
    "Model_Predict = np.argmax(Model_Predict, axis=1)\n",
    "\n",
    "#Map predictions to their corresponding labels\n",
    "Predict_Label = Test_Gen.class_indices\n",
    "Predict_Label = dict((v, k) for k, v in Predict_Label.items())\n",
    "Model_Predict = [Predict_Label[k] for k in Model_Predict]\n",
    "\n",
    "print(Model_Predict[220:234])"
   ]
  },
  {
   "cell_type": "code",
   "execution_count": null,
   "id": "62c3d52f05d51aae",
   "metadata": {
    "ExecuteTime": {
     "start_time": "2024-06-02T17:49:55.264341400Z"
    }
   },
   "outputs": [],
   "source": [
    "Test_Results = list(Test_Data[\"CATEGORY\"])"
   ]
  },
  {
   "cell_type": "code",
   "execution_count": null,
   "id": "frozen-pollution",
   "metadata": {
    "ExecuteTime": {
     "start_time": "2024-06-02T17:49:55.267426500Z"
    },
    "execution": {
     "iopub.execute_input": "2021-05-04T09:27:52.834937Z",
     "iopub.status.busy": "2021-05-04T09:27:52.834218Z",
     "iopub.status.idle": "2021-05-04T09:27:52.861645Z",
     "shell.execute_reply": "2021-05-04T09:27:52.860955Z"
    },
    "papermill": {
     "duration": 0.31795,
     "end_time": "2021-05-04T09:27:52.861790",
     "exception": false,
     "start_time": "2021-05-04T09:27:52.543840",
     "status": "completed"
    },
    "tags": []
   },
   "outputs": [],
   "source": [
    "Class_Report = classification_report(Test_Results, Model_Predict)\n",
    "print(Class_Report)"
   ]
  },
  {
   "cell_type": "code",
   "execution_count": null,
   "id": "indirect-melbourne",
   "metadata": {
    "ExecuteTime": {
     "start_time": "2024-06-02T17:49:55.271490100Z"
    },
    "execution": {
     "iopub.execute_input": "2021-05-04T09:27:53.444776Z",
     "iopub.status.busy": "2021-05-04T09:27:53.444089Z",
     "iopub.status.idle": "2021-05-04T09:27:53.461292Z",
     "shell.execute_reply": "2021-05-04T09:27:53.461911Z"
    },
    "papermill": {
     "duration": 0.311103,
     "end_time": "2021-05-04T09:27:53.462106",
     "exception": false,
     "start_time": "2021-05-04T09:27:53.151003",
     "status": "completed"
    },
    "tags": []
   },
   "outputs": [],
   "source": [
    "# Membuat confusion matrix\n",
    "conf_matrix = confusion_matrix(Test_Results, Model_Predict)\n",
    "\n",
    "# Menampilkan confusion matrix\n",
    "print(\"Confusion Matrix:\")\n",
    "print(conf_matrix)\n",
    "\n",
    "import seaborn as sns\n",
    "import matplotlib.pyplot as plt\n",
    "\n",
    "# Menampilkan confusion matrix dengan heatmap\n",
    "plt.figure(figsize=(6, 5))\n",
    "sns.heatmap(conf_matrix, annot=True, fmt='d', cmap='Blues')\n",
    "plt.xlabel('Predicted Label')\n",
    "plt.ylabel('True Label')\n",
    "plt.title('Confusion Matrix')\n",
    "plt.show()"
   ]
  },
  {
   "cell_type": "code",
   "execution_count": null,
   "id": "peripheral-least",
   "metadata": {
    "ExecuteTime": {
     "start_time": "2024-06-02T17:49:55.273516600Z"
    },
    "execution": {
     "iopub.execute_input": "2021-05-04T09:27:54.040358Z",
     "iopub.status.busy": "2021-05-04T09:27:54.039693Z",
     "iopub.status.idle": "2021-05-04T09:27:54.138799Z",
     "shell.execute_reply": "2021-05-04T09:27:54.139368Z"
    },
    "papermill": {
     "duration": 0.390008,
     "end_time": "2021-05-04T09:27:54.139540",
     "exception": false,
     "start_time": "2021-05-04T09:27:53.749532",
     "status": "completed"
    },
    "tags": []
   },
   "outputs": [],
   "source": [
    "Conf_Report = confusion_matrix(Test_Results,Model_Predict, normalize=\"true\")\n",
    "figure = plt.figure(figsize=(6,5))\n",
    "sns.heatmap(Conf_Report,vmax=1,center=0,vmin=-1,annot=True)\n",
    "plt.show()"
   ]
  },
  {
   "cell_type": "code",
   "execution_count": null,
   "id": "original-stone",
   "metadata": {
    "ExecuteTime": {
     "start_time": "2024-06-02T17:49:55.275507800Z"
    },
    "execution": {
     "iopub.execute_input": "2021-05-04T09:27:54.740462Z",
     "iopub.status.busy": "2021-05-04T09:27:54.739808Z",
     "iopub.status.idle": "2021-05-04T09:28:01.530318Z",
     "shell.execute_reply": "2021-05-04T09:28:01.529732Z"
    },
    "papermill": {
     "duration": 7.100866,
     "end_time": "2021-05-04T09:28:01.530491",
     "exception": false,
     "start_time": "2021-05-04T09:27:54.429625",
     "status": "completed"
    },
    "tags": []
   },
   "outputs": [],
   "source": [
    "# Tentukan indeks untuk memulai dan mengakhiri pemilihan gambar\n",
    "start_index = 200\n",
    "end_index = 225\n",
    "\n",
    "# Hitung jumlah kolom dan baris untuk grid gambar\n",
    "num_rows = 8\n",
    "num_cols = 8\n",
    "\n",
    "# Buat gambar dengan grid subplot\n",
    "fig, axes = plt.subplots(nrows=num_rows, ncols=num_cols, figsize=(15, 15), subplot_kw={'xticks': [], 'yticks': []})\n",
    "\n",
    "# Iterate melalui gambar yang akan ditampilkan\n",
    "for i, ax in enumerate(axes.flat):\n",
    "    # Hitung indeks gambar dan label prediksi yang sesuai\n",
    "    index = start_index + i\n",
    "    true_category = Test_Data.iloc[index][\"CATEGORY\"]\n",
    "    prediction = Model_Predict[index]\n",
    "    \n",
    "    # Tentukan warna label berdasarkan kebenaran prediksi\n",
    "    color = 'green' if true_category == prediction else 'red'\n",
    "    \n",
    "    # Tampilkan gambar dan label prediksi dengan warna yang sesuai\n",
    "    ax.imshow(plt.imread(Test_Data.iloc[index][\"JPG\"]))\n",
    "    ax.set_title(f\"TEST:{true_category}\\n PREDICTION:{prediction}\", color=color)\n",
    "\n",
    "# Tampilkan gambar\n",
    "plt.tight_layout()\n",
    "plt.show()\n"
   ]
  },
  {
   "cell_type": "code",
   "execution_count": null,
   "id": "e9c6605a186d0382",
   "metadata": {
    "ExecuteTime": {
     "start_time": "2024-06-02T17:49:55.277606900Z"
    }
   },
   "outputs": [],
   "source": [
    "model.summary()"
   ]
  },
  {
   "cell_type": "code",
   "execution_count": null,
   "id": "19d69d98bcd5c18",
   "metadata": {
    "ExecuteTime": {
     "start_time": "2024-06-02T17:49:55.279636900Z"
    }
   },
   "outputs": [],
   "source": []
  }
 ],
 "metadata": {
  "kernelspec": {
   "display_name": "Python 3 (ipykernel)",
   "language": "python",
   "name": "python3"
  },
  "language_info": {
   "codemirror_mode": {
    "name": "ipython",
    "version": 3
   },
   "file_extension": ".py",
   "mimetype": "text/x-python",
   "name": "python",
   "nbconvert_exporter": "python",
   "pygments_lexer": "ipython3",
   "version": "3.11.5"
  },
  "papermill": {
   "default_parameters": {},
   "duration": 885.315819,
   "end_time": "2021-05-04T09:28:06.374156",
   "environment_variables": {},
   "exception": null,
   "input_path": "__notebook__.ipynb",
   "output_path": "__notebook__.ipynb",
   "parameters": {},
   "start_time": "2021-05-04T09:13:21.058337",
   "version": "2.3.3"
  }
 },
 "nbformat": 4,
 "nbformat_minor": 5
}
