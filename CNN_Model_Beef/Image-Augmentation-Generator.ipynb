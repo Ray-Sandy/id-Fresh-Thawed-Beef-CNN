{
 "metadata": {
  "kernelspec": {
   "language": "python",
   "display_name": "Python 3",
   "name": "python3"
  },
  "language_info": {
   "name": "python",
   "version": "3.7.10",
   "mimetype": "text/x-python",
   "codemirror_mode": {
    "name": "ipython",
    "version": 3
   },
   "pygments_lexer": "ipython3",
   "nbconvert_exporter": "python",
   "file_extension": ".py"
  }
 },
 "nbformat_minor": 4,
 "nbformat": 4,
 "cells": [
  {
   "cell_type": "markdown",
   "source": [
    "<a id=\"t1.\"></a>\n",
    "# 1. Import data and python packages"
   ],
   "metadata": {}
  },
  {
   "cell_type": "code",
   "source": [
    "import pandas as pd\n",
    "import numpy as np\n",
    "import matplotlib.pyplot as plt\n",
    "import cv2\n",
    "import time\n",
    "\n",
    "import os\n",
    "from IPython.display import clear_output"
   ],
   "metadata": {
    "trusted": true,
    "ExecuteTime": {
     "end_time": "2024-06-03T04:48:30.317787400Z",
     "start_time": "2024-06-03T04:48:30.241865100Z"
    }
   },
   "execution_count": 1,
   "outputs": []
  },
  {
   "cell_type": "code",
   "execution_count": 2,
   "outputs": [],
   "source": [
    "train_directory = '../Beef1/Meat/train'\n",
    "test_directory  = '../Beef1/Meat/test'\n",
    "valid_directory  = '../Beef1/Meat/valid'"
   ],
   "metadata": {
    "collapsed": false,
    "ExecuteTime": {
     "end_time": "2024-06-03T04:48:30.334742500Z",
     "start_time": "2024-06-03T04:48:30.319782100Z"
    }
   }
  },
  {
   "cell_type": "code",
   "source": [
    "# Set the desired sample size\n",
    "sample_size = 1475\n",
    "\n",
    "# Set the desired width and height for resizing images\n",
    "width = 224\n",
    "height = 224"
   ],
   "metadata": {
    "trusted": true,
    "ExecuteTime": {
     "end_time": "2024-06-03T04:48:30.368652Z",
     "start_time": "2024-06-03T04:48:30.336736800Z"
    }
   },
   "execution_count": 3,
   "outputs": []
  },
  {
   "cell_type": "markdown",
   "source": [
    "<a id=\"t1.\"></a>\n",
    "# 2. Image Augmentation Loop"
   ],
   "metadata": {
    "collapsed": false
   }
  },
  {
   "cell_type": "code",
   "execution_count": 4,
   "outputs": [],
   "source": [
    "import os\n",
    "from tensorflow.keras.preprocessing.image import ImageDataGenerator, img_to_array, load_img\n",
    "import logging\n",
    "\n",
    "# Path ke folder gambar Melted\n",
    "melted_data = \"../Beef1/Melted/\"\n",
    "output_dir = '../Beef1/Meat/train/Melted/'\n",
    "\n",
    "# Konfigurasi augmentasi\n",
    "datagen = ImageDataGenerator(\n",
    "    rotation_range=40,\n",
    "    width_shift_range=0.2,\n",
    "    height_shift_range=0.2,\n",
    "    shear_range=0.2,\n",
    "    zoom_range=0.2,\n",
    "    horizontal_flip=True,\n",
    "    vertical_flip=True,\n",
    "    fill_mode='nearest')\n",
    "\n",
    "# List semua file dalam folder melted_data\n",
    "file_list = os.listdir(melted_data)\n",
    "\n",
    "# Loop melalui file gambar dan augmentasi\n",
    "for filename in file_list:\n",
    "    if filename.lower().endswith(('png', 'jpg', 'jpeg')):\n",
    "        try:\n",
    "            # Muat gambar\n",
    "            img_path = os.path.join(melted_data, filename)\n",
    "            img = load_img(img_path)\n",
    "            img_array = img_to_array(img)\n",
    "            img_array = img_array.reshape((1,) + img_array.shape)\n",
    "\n",
    "            # Buat augmented images dan simpan\n",
    "            i = 0\n",
    "            for batch in datagen.flow(img_array, batch_size=1, \n",
    "                                      save_to_dir=output_dir, \n",
    "                                      save_prefix='Melted', \n",
    "                                      save_format='jpg'):\n",
    "                i += 1\n",
    "                if i >= 25:  # Simpan 20 augmented images per gambar asli\n",
    "                    break\n",
    "\n",
    "            # Logging setiap gambar yang di-augmentasi\n",
    "            logging.info(f\"Processed {filename}, generated {i} augmented images\")\n",
    "\n",
    "        except Exception as e:\n",
    "            logging.error(f\"Error processing file {filename}: {e}\")\n",
    "\n",
    "# Verifikasi jumlah gambar yang dihasilkan\n",
    "augmented_files = os.listdir(output_dir)\n",
    "logging.info(f\"Total augmented images: {len(augmented_files)}\")\n"
   ],
   "metadata": {
    "collapsed": false,
    "ExecuteTime": {
     "end_time": "2024-06-03T04:48:30.369649900Z",
     "start_time": "2024-06-03T04:48:30.351696700Z"
    }
   }
  },
  {
   "cell_type": "markdown",
   "source": [
    "<a id=\"t1.\"></a>\n",
    "# 3. Image bit value and Neural network calculation"
   ],
   "metadata": {
    "collapsed": false
   }
  },
  {
   "cell_type": "code",
   "execution_count": 17,
   "outputs": [
    {
     "name": "stdout",
     "output_type": "stream",
     "text": [
      "R channel (6x6 array):\n",
      "[[88 86 88 88 88 84]\n",
      " [87 89 86 87 86 82]\n",
      " [84 87 87 84 83 80]\n",
      " [84 87 85 82 81 74]\n",
      " [84 87 82 82 76 75]\n",
      " [83 84 84 81 78 83]]\n",
      "\n",
      "G channel (6x6 array):\n",
      "[[39 37 39 39 39 35]\n",
      " [38 40 37 38 37 33]\n",
      " [35 38 38 35 34 31]\n",
      " [35 38 36 33 32 25]\n",
      " [37 38 33 31 25 24]\n",
      " [33 34 33 30 27 32]]\n",
      "\n",
      "B channel (6x6 array):\n",
      "[[45 43 45 45 45 41]\n",
      " [44 46 43 44 43 39]\n",
      " [41 44 44 41 40 37]\n",
      " [41 44 42 39 38 31]\n",
      " [45 44 39 36 32 31]\n",
      " [42 43 40 37 34 39]]\n"
     ]
    },
    {
     "data": {
      "text/plain": "<Figure size 1500x500 with 3 Axes>",
      "image/png": "[encoded data removed]"
     },
     "metadata": {},
     "output_type": "display_data"
    }
   ],
   "source": [
    "import cv2\n",
    "import numpy as np\n",
    "import matplotlib.pyplot as plt\n",
    "\n",
    "def display_rgb_arrays(image_path, top_left_x, top_left_y):\n",
    "    # Baca gambar\n",
    "    img = cv2.imread(image_path)\n",
    "    img = cv2.cvtColor(img, cv2.COLOR_BGR2RGB)  # Konversi dari BGR ke RGB\n",
    "\n",
    "    # Tentukan koordinat untuk memotong bagian 6x6 dari gambar\n",
    "    crop_size = 6\n",
    "    x, y = top_left_x, top_left_y\n",
    "\n",
    "    # Potong bagian 6x6 dari gambar\n",
    "    cropped_img = img[y:y + crop_size, x:x + crop_size]\n",
    "\n",
    "    # Ekstrak saluran R, G, dan B\n",
    "    R = cropped_img[:, :, 0]\n",
    "    G = cropped_img[:, :, 1]\n",
    "    B = cropped_img[:, :, 2]\n",
    "\n",
    "    # Tampilkan nilai piksel untuk masing-masing saluran warna\n",
    "    print(\"R channel (6x6 array):\")\n",
    "    print(R)\n",
    "    print(\"\\nG channel (6x6 array):\")\n",
    "    print(G)\n",
    "    print(\"\\nB channel (6x6 array):\")\n",
    "    print(B)\n",
    "\n",
    "    # Plotkan hasilnya menggunakan Matplotlib\n",
    "    plt.figure(figsize=(15, 5))\n",
    "\n",
    "    plt.subplot(1, 3, 1)\n",
    "    plt.imshow(R, cmap='Reds')\n",
    "    plt.title(\"R channel\")\n",
    "\n",
    "    plt.subplot(1, 3, 2)\n",
    "    plt.imshow(G, cmap='Greens')\n",
    "    plt.title(\"G channel\")\n",
    "\n",
    "    plt.subplot(1, 3, 3)\n",
    "    plt.imshow(B, cmap='Blues')\n",
    "    plt.title(\"B channel\")\n",
    "\n",
    "    plt.show()\n",
    "\n",
    "# Path ke gambar yang ingin digunakan\n",
    "image_path = '../Beef1/Meat/test/fresh/Fresh (1166).jpg'\n",
    "top_left_x, top_left_y = 0, 0  # Koordinat bagian atas kiri dari area yang akan dipotong\n",
    "\n",
    "display_rgb_arrays(image_path, top_left_x, top_left_y)"
   ],
   "metadata": {
    "collapsed": false,
    "ExecuteTime": {
     "end_time": "2024-06-03T20:46:53.756264100Z",
     "start_time": "2024-06-03T20:46:52.497673900Z"
    }
   }
  },
  {
   "cell_type": "code",
   "execution_count": 18,
   "outputs": [
    {
     "name": "stdout",
     "output_type": "stream",
     "text": [
      "R channel (6x6 array):\n",
      "[[88 86 88 88 88 84]\n",
      " [87 89 86 87 86 82]\n",
      " [84 87 87 84 83 80]\n",
      " [84 87 85 82 81 74]\n",
      " [84 87 82 82 76 75]\n",
      " [83 84 84 81 78 83]]\n",
      "\n",
      "G channel (6x6 array):\n",
      "[[39 37 39 39 39 35]\n",
      " [38 40 37 38 37 33]\n",
      " [35 38 38 35 34 31]\n",
      " [35 38 36 33 32 25]\n",
      " [37 38 33 31 25 24]\n",
      " [33 34 33 30 27 32]]\n",
      "\n",
      "B channel (6x6 array):\n",
      "[[45 43 45 45 45 41]\n",
      " [44 46 43 44 43 39]\n",
      " [41 44 44 41 40 37]\n",
      " [41 44 42 39 38 31]\n",
      " [45 44 39 36 32 31]\n",
      " [42 43 40 37 34 39]]\n",
      "\n",
      "R channel setelah konvolusi:\n",
      "[[-2.  3.  4. 13.]\n",
      " [-3. 10.  8. 17.]\n",
      " [-2. 13. 14. 19.]\n",
      " [ 0. 13. 16. 13.]]\n",
      "\n",
      "G channel setelah konvolusi:\n",
      "[[-2.  3.  4. 13.]\n",
      " [-3. 10.  8. 17.]\n",
      " [ 0. 15. 16. 19.]\n",
      " [ 3. 16. 18. 13.]]\n",
      "\n",
      "B channel setelah konvolusi:\n",
      "[[-2.  3.  4. 13.]\n",
      " [-3. 10.  8. 17.]\n",
      " [ 2. 16. 15. 17.]\n",
      " [ 7. 19. 17. 11.]]\n"
     ]
    },
    {
     "data": {
      "text/plain": "<Figure size 1500x500 with 3 Axes>",
      "image/png": "[encoded data removed]"
     },
     "metadata": {},
     "output_type": "display_data"
    }
   ],
   "source": [
    "import cv2\n",
    "import numpy as np\n",
    "import matplotlib.pyplot as plt\n",
    "\n",
    "def display_rgb_arrays(image_path, top_left_x, top_left_y):\n",
    "    # Baca gambar\n",
    "    img = cv2.imread(image_path)\n",
    "    img = cv2.cvtColor(img, cv2.COLOR_BGR2RGB)  # Konversi dari BGR ke RGB\n",
    "\n",
    "    # Tentukan koordinat untuk memotong bagian 6x6 dari gambar\n",
    "    crop_size = 6\n",
    "    x, y = top_left_x, top_left_y\n",
    "\n",
    "    # Potong bagian 6x6 dari gambar\n",
    "    cropped_img = img[y:y + crop_size, x:x + crop_size]\n",
    "\n",
    "    # Ekstrak saluran R, G, dan B\n",
    "    R = cropped_img[:, :, 0]\n",
    "    G = cropped_img[:, :, 1]\n",
    "    B = cropped_img[:, :, 2]\n",
    "\n",
    "    # Tampilkan nilai piksel untuk masing-masing saluran warna\n",
    "    print(\"R channel (6x6 array):\")\n",
    "    print(R)\n",
    "    print(\"\\nG channel (6x6 array):\")\n",
    "    print(G)\n",
    "    print(\"\\nB channel (6x6 array):\")\n",
    "    print(B)\n",
    "\n",
    "    # Definisikan filter konvolusi\n",
    "    kernel = np.array([[1, 0, -1], [1, 0, -1], [1, 0, -1]])\n",
    "\n",
    "    # Fungsi untuk melakukan konvolusi 2D\n",
    "    def convolve2d(image, kernel):\n",
    "        kernel_height, kernel_width = kernel.shape\n",
    "        image_height, image_width = image.shape\n",
    "        output = np.zeros((image_height - kernel_height + 1, image_width - kernel_width + 1))\n",
    "        \n",
    "        for y in range(image_height - kernel_height + 1):\n",
    "            for x in range(image_width - kernel_width + 1):\n",
    "                region = image[y:y + kernel_height, x:x + kernel_width]\n",
    "                output[y, x] = np.sum(region * kernel)\n",
    "        \n",
    "        return output\n",
    "\n",
    "    # Lakukan konvolusi pada masing-masing saluran warna\n",
    "    R_conv = convolve2d(R, kernel)\n",
    "    G_conv = convolve2d(G, kernel)\n",
    "    B_conv = convolve2d(B, kernel)\n",
    "\n",
    "    # Tampilkan hasil konvolusi\n",
    "    print(\"\\nR channel setelah konvolusi:\")\n",
    "    print(R_conv)\n",
    "    print(\"\\nG channel setelah konvolusi:\")\n",
    "    print(G_conv)\n",
    "    print(\"\\nB channel setelah konvolusi:\")\n",
    "    print(B_conv)\n",
    "\n",
    "    # Plotkan hasil konvolusi menggunakan Matplotlib\n",
    "    plt.figure(figsize=(15, 5))\n",
    "\n",
    "    plt.subplot(1, 3, 1)\n",
    "    plt.imshow(R_conv, cmap='Reds')\n",
    "    plt.title(\"R channel setelah konvolusi\")\n",
    "\n",
    "    plt.subplot(1, 3, 2)\n",
    "    plt.imshow(G_conv, cmap='Greens')\n",
    "    plt.title(\"G channel setelah konvolusi\")\n",
    "\n",
    "    plt.subplot(1, 3, 3)\n",
    "    plt.imshow(B_conv, cmap='Blues')\n",
    "    plt.title(\"B channel setelah konvolusi\")\n",
    "\n",
    "    plt.show()\n",
    "\n",
    "# Path ke gambar yang ingin digunakan\n",
    "image_path = '../Beef1/Meat/test/fresh/Fresh (1166).jpg'\n",
    "top_left_x, top_left_y = 0, 0  # Koordinat bagian atas kiri dari area yang akan dipotong\n",
    "\n",
    "display_rgb_arrays(image_path, top_left_x, top_left_y)\n"
   ],
   "metadata": {
    "collapsed": false,
    "ExecuteTime": {
     "end_time": "2024-06-03T21:16:20.319674400Z",
     "start_time": "2024-06-03T21:16:19.209009900Z"
    }
   }
  },
  {
   "cell_type": "code",
   "execution_count": 19,
   "outputs": [
    {
     "data": {
      "text/plain": "(8.178860108140896e-30, 1.0)"
     },
     "execution_count": 19,
     "metadata": {},
     "output_type": "execute_result"
    }
   ],
   "source": [
    "import numpy as np\n",
    "\n",
    "# Nilai output\n",
    "O1 = 33.488\n",
    "O2 = 100.464\n",
    "\n",
    "# Hitung eksponensial dari setiap nilai output\n",
    "exp_O1 = np.exp(O1)\n",
    "exp_O2 = np.exp(O2)\n",
    "\n",
    "# Jumlahkan semua nilai eksponensial\n",
    "sum_exp = exp_O1 + exp_O2\n",
    "\n",
    "# Hitung softmax untuk masing-masing output\n",
    "softmax_O1 = exp_O1 / sum_exp\n",
    "softmax_O2 = exp_O2 / sum_exp\n",
    "\n",
    "softmax_O1, softmax_O2\n"
   ],
   "metadata": {
    "collapsed": false,
    "ExecuteTime": {
     "end_time": "2024-06-03T23:43:23.757116400Z",
     "start_time": "2024-06-03T23:43:23.249483800Z"
    }
   }
  },
  {
   "cell_type": "code",
   "execution_count": 20,
   "outputs": [
    {
     "data": {
      "text/plain": "(8.178860108140896e-30, 1.0)"
     },
     "execution_count": 20,
     "metadata": {},
     "output_type": "execute_result"
    }
   ],
   "source": [
    "import numpy as np\n",
    "\n",
    "# Nilai output\n",
    "O1 = 33.488\n",
    "O2 = 100.464\n",
    "\n",
    "# Hitung eksponensial dari setiap nilai output\n",
    "exp_O1 = np.exp(O1)\n",
    "exp_O2 = np.exp(O2)\n",
    "\n",
    "# Jumlahkan semua nilai eksponensial\n",
    "sum_exp = exp_O1 + exp_O2\n",
    "\n",
    "# Hitung softmax untuk masing-masing output\n",
    "softmax_O1 = exp_O1 / sum_exp\n",
    "softmax_O2 = exp_O2 / sum_exp\n",
    "\n",
    "softmax_O1, softmax_O2\n"
   ],
   "metadata": {
    "collapsed": false,
    "ExecuteTime": {
     "end_time": "2024-06-03T23:43:32.983323Z",
     "start_time": "2024-06-03T23:43:32.405906800Z"
    }
   }
  },
  {
   "cell_type": "code",
   "execution_count": 50,
   "outputs": [
    {
     "name": "stdout",
     "output_type": "stream",
     "text": [
      "1.8842510393369524e-112\n",
      "0.9993715286452242\n"
     ]
    }
   ],
   "source": [
    "import math\n",
    "# Hitung e^257.256\n",
    "exp_value = math.exp(257.256)\n",
    "exp_2_value = math.exp(-7.37159143917368)\n",
    "# Hasil dari ekspresi\n",
    "result = 1 / (1 + exp_value)\n",
    "print(result)\n",
    "result2 = 1 / (1 + exp_2_value)\n",
    "print(result2)\n"
   ],
   "metadata": {
    "collapsed": false,
    "ExecuteTime": {
     "end_time": "2024-06-04T06:14:06.850373200Z",
     "start_time": "2024-06-04T06:14:06.653899600Z"
    }
   }
  },
  {
   "cell_type": "code",
   "execution_count": 22,
   "outputs": [
    {
     "data": {
      "text/plain": "(array([3.28945622e-04, 9.99671054e-01]),\n array([[0.5488135 , 0.71518937, 0.60276338, 0.54488318],\n        [0.4236548 , 0.64589411, 0.43758721, 0.891773  ]]))"
     },
     "execution_count": 22,
     "metadata": {},
     "output_type": "execute_result"
    }
   ],
   "source": [
    "import numpy as np\n",
    "\n",
    "# Nilai pada hidden layer kedua\n",
    "H1 = 71.76\n",
    "H2 = 119.6\n",
    "H3 = 47.84\n",
    "H4 = 95.68\n",
    "\n",
    "# Fungsi untuk menghitung softmax\n",
    "def softmax(x):\n",
    "    exp_x = np.exp(x - np.max(x))  # Stabilitas numerik\n",
    "    return exp_x / exp_x.sum(axis=0)\n",
    "\n",
    "# Mengacak bobot untuk output layer\n",
    "np.random.seed(0)  # Untuk hasil yang konsisten\n",
    "weights_output = np.random.rand(2, 4)  # Dua neuron output, empat input dari hidden layer kedua\n",
    "\n",
    "# Menghitung nilai output\n",
    "O = np.dot(weights_output, [H1, H2, H3, H4])\n",
    "\n",
    "# Menerapkan softmax pada nilai output\n",
    "softmax_output = softmax(O)\n",
    "\n",
    "softmax_output, weights_output\n"
   ],
   "metadata": {
    "collapsed": false,
    "ExecuteTime": {
     "end_time": "2024-06-03T23:46:04.459876400Z",
     "start_time": "2024-06-03T23:46:03.847544400Z"
    }
   }
  },
  {
   "cell_type": "code",
   "execution_count": 32,
   "outputs": [],
   "source": [
    "\n",
    "# Step 1: Combine channels and apply ReLU activation\n",
    "R = np.array([[-2, 3, 4, 13],\n",
    "              [-3, 10, 8, 17],\n",
    "              [-2, 13, 14, 19],\n",
    "              [0, 13, 16, 13]])\n",
    "\n",
    "G = np.array([[-2, 3, 4, 13],\n",
    "              [-3, 10, 8, 17],\n",
    "              [0, 15, 16, 19],\n",
    "              [3, 16, 18, 13]])\n",
    "\n",
    "B = np.array([[-2, 3, 4, 13],\n",
    "              [-3, 10, 8, 17],\n",
    "              [2, 16, 15, 17],\n",
    "              [7, 19, 17, 11]])\n",
    "\n",
    "combined = R + G + B\n",
    "combined = np.maximum(combined, 0)"
   ],
   "metadata": {
    "collapsed": false,
    "ExecuteTime": {
     "end_time": "2024-06-03T23:59:05.279793300Z",
     "start_time": "2024-06-03T23:59:04.870922100Z"
    }
   }
  },
  {
   "cell_type": "code",
   "execution_count": 33,
   "outputs": [],
   "source": [
    "# Step 3: Max Pooling\n",
    "def max_pooling(matrix, pool_size=2, strides=2):\n",
    "    output_shape = (\n",
    "        (matrix.shape[0] - pool_size) // strides + 1,\n",
    "        (matrix.shape[1] - pool_size) // strides + 1\n",
    "    )\n",
    "    output = np.zeros(output_shape)\n",
    "    for i in range(0, matrix.shape[0] - pool_size + 1, strides):\n",
    "        for j in range(0, matrix.shape[1] - pool_size + 1, strides):\n",
    "            output[i // strides, j // strides] = np.max(matrix[i:i + pool_size, j:j + pool_size])\n",
    "    return output\n",
    "\n",
    "pooled = max_pooling(combined)\n"
   ],
   "metadata": {
    "collapsed": false,
    "ExecuteTime": {
     "end_time": "2024-06-03T23:59:05.657810100Z",
     "start_time": "2024-06-03T23:59:05.609905400Z"
    }
   }
  },
  {
   "cell_type": "code",
   "source": [
    "# Step 4: Flatten layer\n",
    "flattened = pooled.flatten()"
   ],
   "metadata": {
    "trusted": true,
    "ExecuteTime": {
     "end_time": "2024-06-03T23:59:06.466314800Z",
     "start_time": "2024-06-03T23:59:06.402817400Z"
    }
   },
   "execution_count": 34,
   "outputs": []
  },
  {
   "cell_type": "code",
   "execution_count": 35,
   "outputs": [],
   "source": [
    "# Step 5 and 6: Hidden layer and Output layer calculations with random weights\n",
    "np.random.seed(42)  # For consistency\n",
    "weights_hidden1 = np.random.rand(4, 4)  # 4 inputs to 4 neurons in the first hidden layer\n",
    "weights_hidden2 = np.random.rand(4, 4)  # 4 inputs to 4 neurons in the second hidden layer\n",
    "weights_output = np.random.rand(4, 2)   # 4 inputs from the second hidden layer to 2 output neurons\n",
    "\n",
    "# First hidden layer\n",
    "hidden1 = np.dot(flattened, weights_hidden1)\n",
    "hidden1 = np.maximum(hidden1, 0)  # ReLU activation\n",
    "\n",
    "# Second hidden layer\n",
    "hidden2 = np.dot(hidden1, weights_hidden2)\n",
    "hidden2 = np.maximum(hidden2, 0)  # ReLU activation\n",
    "\n",
    "# Output layer\n",
    "output = np.dot(hidden2, weights_output)"
   ],
   "metadata": {
    "collapsed": false,
    "ExecuteTime": {
     "end_time": "2024-06-03T23:59:07.671753300Z",
     "start_time": "2024-06-03T23:59:07.624831700Z"
    }
   }
  },
  {
   "cell_type": "code",
   "source": [
    "\n",
    "# Softmax activation\n",
    "def softmax(x):\n",
    "    exp_x = np.exp(x - np.max(x))  # For numerical stability\n",
    "    return exp_x / exp_x.sum(axis=0)\n",
    "\n",
    "softmax_output = softmax(output)"
   ],
   "metadata": {
    "trusted": true,
    "ExecuteTime": {
     "end_time": "2024-06-03T23:59:08.595194800Z",
     "start_time": "2024-06-03T23:59:08.465796900Z"
    }
   },
   "execution_count": 36,
   "outputs": []
  },
  {
   "cell_type": "code",
   "execution_count": 37,
   "outputs": [
    {
     "name": "stdout",
     "output_type": "stream",
     "text": [
      "Combined channel after ReLU:\n",
      "[[ 0  9 12 39]\n",
      " [ 0 30 24 51]\n",
      " [ 0 44 45 55]\n",
      " [10 48 51 37]]\n",
      "\n",
      "Pooled result:\n",
      "[[30. 51.]\n",
      " [48. 55.]]\n",
      "\n",
      "Flattened layer:\n",
      "[30. 51. 48. 55.]\n",
      "\n",
      "Hidden layer 1 output:\n",
      "[ 93.83102004  82.14328455  35.9105114  118.77765891]\n",
      "\n",
      "Hidden layer 2 output:\n",
      "[165.55028839  94.41025673 143.86070551  96.14137029]\n",
      "\n",
      "Output before softmax:\n",
      "[211.53993064 289.77731863]\n",
      "\n",
      "Softmax output:\n",
      "[1.0518023e-34 1.0000000e+00]\n"
     ]
    }
   ],
   "source": [
    "print(\"Combined channel after ReLU:\")\n",
    "print(combined)\n",
    "print(\"\\nPooled result:\")\n",
    "print(pooled)\n",
    "print(\"\\nFlattened layer:\")\n",
    "print(flattened)\n",
    "print(\"\\nHidden layer 1 output:\")\n",
    "print(hidden1)\n",
    "print(\"\\nHidden layer 2 output:\")\n",
    "print(hidden2)\n",
    "print(\"\\nOutput before softmax:\")\n",
    "print(output)\n",
    "print(\"\\nSoftmax output:\")\n",
    "print(softmax_output)"
   ],
   "metadata": {
    "collapsed": false
   }
  }
 ]
}
